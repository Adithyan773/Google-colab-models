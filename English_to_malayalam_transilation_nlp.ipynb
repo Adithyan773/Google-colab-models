{
  "nbformat": 4,
  "nbformat_minor": 0,
  "metadata": {
    "colab": {
      "provenance": [],
      "gpuType": "T4",
      "authorship_tag": "ABX9TyNVY77by1df8CvXVD9a0dTE",
      "include_colab_link": true
    },
    "kernelspec": {
      "name": "python3",
      "display_name": "Python 3"
    },
    "language_info": {
      "name": "python"
    },
    "accelerator": "GPU"
  },
  "cells": [
    {
      "cell_type": "markdown",
      "metadata": {
        "id": "view-in-github",
        "colab_type": "text"
      },
      "source": [
        "<a href=\"https://colab.research.google.com/github/Adithyan773/Google-colab-models/blob/main/English_to_malayalam_transilation_nlp.ipynb\" target=\"_parent\"><img src=\"https://colab.research.google.com/assets/colab-badge.svg\" alt=\"Open In Colab\"/></a>"
      ]
    },
    {
      "cell_type": "code",
      "execution_count": null,
      "metadata": {
        "colab": {
          "base_uri": "https://localhost:8080/"
        },
        "id": "abr4ejbcU9m7",
        "outputId": "6e230ab5-61cd-4c8b-b3f9-67ee343c848b"
      },
      "outputs": [
        {
          "output_type": "stream",
          "name": "stdout",
          "text": [
            "Collecting opendatasets\n",
            "  Downloading opendatasets-0.1.22-py3-none-any.whl.metadata (9.2 kB)\n",
            "Requirement already satisfied: tqdm in /usr/local/lib/python3.10/dist-packages (from opendatasets) (4.66.6)\n",
            "Requirement already satisfied: kaggle in /usr/local/lib/python3.10/dist-packages (from opendatasets) (1.6.17)\n",
            "Requirement already satisfied: click in /usr/local/lib/python3.10/dist-packages (from opendatasets) (8.1.7)\n",
            "Requirement already satisfied: six>=1.10 in /usr/local/lib/python3.10/dist-packages (from kaggle->opendatasets) (1.16.0)\n",
            "Requirement already satisfied: certifi>=2023.7.22 in /usr/local/lib/python3.10/dist-packages (from kaggle->opendatasets) (2024.8.30)\n",
            "Requirement already satisfied: python-dateutil in /usr/local/lib/python3.10/dist-packages (from kaggle->opendatasets) (2.8.2)\n",
            "Requirement already satisfied: requests in /usr/local/lib/python3.10/dist-packages (from kaggle->opendatasets) (2.32.3)\n",
            "Requirement already satisfied: python-slugify in /usr/local/lib/python3.10/dist-packages (from kaggle->opendatasets) (8.0.4)\n",
            "Requirement already satisfied: urllib3 in /usr/local/lib/python3.10/dist-packages (from kaggle->opendatasets) (2.2.3)\n",
            "Requirement already satisfied: bleach in /usr/local/lib/python3.10/dist-packages (from kaggle->opendatasets) (6.2.0)\n",
            "Requirement already satisfied: webencodings in /usr/local/lib/python3.10/dist-packages (from bleach->kaggle->opendatasets) (0.5.1)\n",
            "Requirement already satisfied: text-unidecode>=1.3 in /usr/local/lib/python3.10/dist-packages (from python-slugify->kaggle->opendatasets) (1.3)\n",
            "Requirement already satisfied: charset-normalizer<4,>=2 in /usr/local/lib/python3.10/dist-packages (from requests->kaggle->opendatasets) (3.4.0)\n",
            "Requirement already satisfied: idna<4,>=2.5 in /usr/local/lib/python3.10/dist-packages (from requests->kaggle->opendatasets) (3.10)\n",
            "Downloading opendatasets-0.1.22-py3-none-any.whl (15 kB)\n",
            "Installing collected packages: opendatasets\n",
            "Successfully installed opendatasets-0.1.22\n"
          ]
        }
      ],
      "source": [
        "!pip install opendatasets"
      ]
    },
    {
      "cell_type": "code",
      "source": [
        "import opendatasets as od"
      ],
      "metadata": {
        "id": "cdQYqtLzVH42"
      },
      "execution_count": null,
      "outputs": []
    },
    {
      "cell_type": "code",
      "source": [
        "od.download('https://www.kaggle.com/datasets/rajeshradhakrishnan/ulmfit-fastai/data')"
      ],
      "metadata": {
        "colab": {
          "base_uri": "https://localhost:8080/"
        },
        "id": "ZK4DRs8vVMwT",
        "outputId": "0f1b118b-c3c1-4c94-fd03-11f71a7ee599"
      },
      "execution_count": null,
      "outputs": [
        {
          "output_type": "stream",
          "name": "stdout",
          "text": [
            "Please provide your Kaggle credentials to download this dataset. Learn more: http://bit.ly/kaggle-creds\n",
            "Your Kaggle username: qwe123achu\n",
            "Your Kaggle Key: ··········\n",
            "Dataset URL: https://www.kaggle.com/datasets/rajeshradhakrishnan/ulmfit-fastai\n",
            "Downloading ulmfit-fastai.zip to ./ulmfit-fastai\n"
          ]
        },
        {
          "output_type": "stream",
          "name": "stderr",
          "text": [
            "100%|██████████| 1.08G/1.08G [00:53<00:00, 21.5MB/s]\n"
          ]
        },
        {
          "output_type": "stream",
          "name": "stdout",
          "text": [
            "\n"
          ]
        }
      ]
    },
    {
      "cell_type": "code",
      "source": [
        "import pandas as pd"
      ],
      "metadata": {
        "id": "eJWXAgC8VQ-5"
      },
      "execution_count": null,
      "outputs": []
    },
    {
      "cell_type": "code",
      "source": [
        "bd = pd.read_csv('/content/ulmfit-fastai/en_ml.csv')"
      ],
      "metadata": {
        "id": "K3mFIrijWAlD"
      },
      "execution_count": null,
      "outputs": []
    },
    {
      "cell_type": "code",
      "source": [
        "df = bd.iloc[:10_000]"
      ],
      "metadata": {
        "id": "QDMT-GqBWJA3"
      },
      "execution_count": null,
      "outputs": []
    },
    {
      "cell_type": "code",
      "source": [
        "df.head()"
      ],
      "metadata": {
        "colab": {
          "base_uri": "https://localhost:8080/",
          "height": 206
        },
        "id": "sUd5MmgbWW9m",
        "outputId": "9b443683-3a98-42b4-b7d6-afcd74dac12a"
      },
      "execution_count": null,
      "outputs": [
        {
          "output_type": "execute_result",
          "data": {
            "text/plain": [
              "                                                  en  \\\n",
              "0  The passengers were people with health emergen...   \n",
              "1  By introducing competitive bidding, Government...   \n",
              "2  She does not want to continue as Chief Ministe...   \n",
              "3                                  Is this a joke?\\n   \n",
              "4  This was announced by Minister of State for Ex...   \n",
              "\n",
              "                                                  ml  \n",
              "0  തൊഴില്‍ നഷ്ടപ്പെട്ടവര്‍, രോഗബാധിതര്‍, സന്ദര്‍ശ...  \n",
              "1  പുനരുല്‍പ്പാദന ഈര്‍ജ്ജ മേഖലകളില്‍ ഗവണ്‍മെന്റ് ...  \n",
              "2  മുഖ്യമന്ത്രി എന്ന പദവിയില്‍ തന്നെ കെട്ടിയിടാന്...  \n",
              "3                         ‘‘ഇതെപ്പിടിയാവുമോ എന്തോ?\\n  \n",
              "4  വിദേശകാര്യ സഹമന്ത്രി വി മുരളീധരന്‍ ലോക്‌സഭയില്...  "
            ],
            "text/html": [
              "\n",
              "  <div id=\"df-ed501ff6-d6f2-4760-bda8-079e58031c3f\" class=\"colab-df-container\">\n",
              "    <div>\n",
              "<style scoped>\n",
              "    .dataframe tbody tr th:only-of-type {\n",
              "        vertical-align: middle;\n",
              "    }\n",
              "\n",
              "    .dataframe tbody tr th {\n",
              "        vertical-align: top;\n",
              "    }\n",
              "\n",
              "    .dataframe thead th {\n",
              "        text-align: right;\n",
              "    }\n",
              "</style>\n",
              "<table border=\"1\" class=\"dataframe\">\n",
              "  <thead>\n",
              "    <tr style=\"text-align: right;\">\n",
              "      <th></th>\n",
              "      <th>en</th>\n",
              "      <th>ml</th>\n",
              "    </tr>\n",
              "  </thead>\n",
              "  <tbody>\n",
              "    <tr>\n",
              "      <th>0</th>\n",
              "      <td>The passengers were people with health emergen...</td>\n",
              "      <td>തൊഴില്‍ നഷ്ടപ്പെട്ടവര്‍, രോഗബാധിതര്‍, സന്ദര്‍ശ...</td>\n",
              "    </tr>\n",
              "    <tr>\n",
              "      <th>1</th>\n",
              "      <td>By introducing competitive bidding, Government...</td>\n",
              "      <td>പുനരുല്‍പ്പാദന ഈര്‍ജ്ജ മേഖലകളില്‍ ഗവണ്‍മെന്റ് ...</td>\n",
              "    </tr>\n",
              "    <tr>\n",
              "      <th>2</th>\n",
              "      <td>She does not want to continue as Chief Ministe...</td>\n",
              "      <td>മുഖ്യമന്ത്രി എന്ന പദവിയില്‍ തന്നെ കെട്ടിയിടാന്...</td>\n",
              "    </tr>\n",
              "    <tr>\n",
              "      <th>3</th>\n",
              "      <td>Is this a joke?\\n</td>\n",
              "      <td>‘‘ഇതെപ്പിടിയാവുമോ എന്തോ?\\n</td>\n",
              "    </tr>\n",
              "    <tr>\n",
              "      <th>4</th>\n",
              "      <td>This was announced by Minister of State for Ex...</td>\n",
              "      <td>വിദേശകാര്യ സഹമന്ത്രി വി മുരളീധരന്‍ ലോക്‌സഭയില്...</td>\n",
              "    </tr>\n",
              "  </tbody>\n",
              "</table>\n",
              "</div>\n",
              "    <div class=\"colab-df-buttons\">\n",
              "\n",
              "  <div class=\"colab-df-container\">\n",
              "    <button class=\"colab-df-convert\" onclick=\"convertToInteractive('df-ed501ff6-d6f2-4760-bda8-079e58031c3f')\"\n",
              "            title=\"Convert this dataframe to an interactive table.\"\n",
              "            style=\"display:none;\">\n",
              "\n",
              "  <svg xmlns=\"http://www.w3.org/2000/svg\" height=\"24px\" viewBox=\"0 -960 960 960\">\n",
              "    <path d=\"M120-120v-720h720v720H120Zm60-500h600v-160H180v160Zm220 220h160v-160H400v160Zm0 220h160v-160H400v160ZM180-400h160v-160H180v160Zm440 0h160v-160H620v160ZM180-180h160v-160H180v160Zm440 0h160v-160H620v160Z\"/>\n",
              "  </svg>\n",
              "    </button>\n",
              "\n",
              "  <style>\n",
              "    .colab-df-container {\n",
              "      display:flex;\n",
              "      gap: 12px;\n",
              "    }\n",
              "\n",
              "    .colab-df-convert {\n",
              "      background-color: #E8F0FE;\n",
              "      border: none;\n",
              "      border-radius: 50%;\n",
              "      cursor: pointer;\n",
              "      display: none;\n",
              "      fill: #1967D2;\n",
              "      height: 32px;\n",
              "      padding: 0 0 0 0;\n",
              "      width: 32px;\n",
              "    }\n",
              "\n",
              "    .colab-df-convert:hover {\n",
              "      background-color: #E2EBFA;\n",
              "      box-shadow: 0px 1px 2px rgba(60, 64, 67, 0.3), 0px 1px 3px 1px rgba(60, 64, 67, 0.15);\n",
              "      fill: #174EA6;\n",
              "    }\n",
              "\n",
              "    .colab-df-buttons div {\n",
              "      margin-bottom: 4px;\n",
              "    }\n",
              "\n",
              "    [theme=dark] .colab-df-convert {\n",
              "      background-color: #3B4455;\n",
              "      fill: #D2E3FC;\n",
              "    }\n",
              "\n",
              "    [theme=dark] .colab-df-convert:hover {\n",
              "      background-color: #434B5C;\n",
              "      box-shadow: 0px 1px 3px 1px rgba(0, 0, 0, 0.15);\n",
              "      filter: drop-shadow(0px 1px 2px rgba(0, 0, 0, 0.3));\n",
              "      fill: #FFFFFF;\n",
              "    }\n",
              "  </style>\n",
              "\n",
              "    <script>\n",
              "      const buttonEl =\n",
              "        document.querySelector('#df-ed501ff6-d6f2-4760-bda8-079e58031c3f button.colab-df-convert');\n",
              "      buttonEl.style.display =\n",
              "        google.colab.kernel.accessAllowed ? 'block' : 'none';\n",
              "\n",
              "      async function convertToInteractive(key) {\n",
              "        const element = document.querySelector('#df-ed501ff6-d6f2-4760-bda8-079e58031c3f');\n",
              "        const dataTable =\n",
              "          await google.colab.kernel.invokeFunction('convertToInteractive',\n",
              "                                                    [key], {});\n",
              "        if (!dataTable) return;\n",
              "\n",
              "        const docLinkHtml = 'Like what you see? Visit the ' +\n",
              "          '<a target=\"_blank\" href=https://colab.research.google.com/notebooks/data_table.ipynb>data table notebook</a>'\n",
              "          + ' to learn more about interactive tables.';\n",
              "        element.innerHTML = '';\n",
              "        dataTable['output_type'] = 'display_data';\n",
              "        await google.colab.output.renderOutput(dataTable, element);\n",
              "        const docLink = document.createElement('div');\n",
              "        docLink.innerHTML = docLinkHtml;\n",
              "        element.appendChild(docLink);\n",
              "      }\n",
              "    </script>\n",
              "  </div>\n",
              "\n",
              "\n",
              "<div id=\"df-4a46e287-afa2-4abd-9813-326989d9f236\">\n",
              "  <button class=\"colab-df-quickchart\" onclick=\"quickchart('df-4a46e287-afa2-4abd-9813-326989d9f236')\"\n",
              "            title=\"Suggest charts\"\n",
              "            style=\"display:none;\">\n",
              "\n",
              "<svg xmlns=\"http://www.w3.org/2000/svg\" height=\"24px\"viewBox=\"0 0 24 24\"\n",
              "     width=\"24px\">\n",
              "    <g>\n",
              "        <path d=\"M19 3H5c-1.1 0-2 .9-2 2v14c0 1.1.9 2 2 2h14c1.1 0 2-.9 2-2V5c0-1.1-.9-2-2-2zM9 17H7v-7h2v7zm4 0h-2V7h2v10zm4 0h-2v-4h2v4z\"/>\n",
              "    </g>\n",
              "</svg>\n",
              "  </button>\n",
              "\n",
              "<style>\n",
              "  .colab-df-quickchart {\n",
              "      --bg-color: #E8F0FE;\n",
              "      --fill-color: #1967D2;\n",
              "      --hover-bg-color: #E2EBFA;\n",
              "      --hover-fill-color: #174EA6;\n",
              "      --disabled-fill-color: #AAA;\n",
              "      --disabled-bg-color: #DDD;\n",
              "  }\n",
              "\n",
              "  [theme=dark] .colab-df-quickchart {\n",
              "      --bg-color: #3B4455;\n",
              "      --fill-color: #D2E3FC;\n",
              "      --hover-bg-color: #434B5C;\n",
              "      --hover-fill-color: #FFFFFF;\n",
              "      --disabled-bg-color: #3B4455;\n",
              "      --disabled-fill-color: #666;\n",
              "  }\n",
              "\n",
              "  .colab-df-quickchart {\n",
              "    background-color: var(--bg-color);\n",
              "    border: none;\n",
              "    border-radius: 50%;\n",
              "    cursor: pointer;\n",
              "    display: none;\n",
              "    fill: var(--fill-color);\n",
              "    height: 32px;\n",
              "    padding: 0;\n",
              "    width: 32px;\n",
              "  }\n",
              "\n",
              "  .colab-df-quickchart:hover {\n",
              "    background-color: var(--hover-bg-color);\n",
              "    box-shadow: 0 1px 2px rgba(60, 64, 67, 0.3), 0 1px 3px 1px rgba(60, 64, 67, 0.15);\n",
              "    fill: var(--button-hover-fill-color);\n",
              "  }\n",
              "\n",
              "  .colab-df-quickchart-complete:disabled,\n",
              "  .colab-df-quickchart-complete:disabled:hover {\n",
              "    background-color: var(--disabled-bg-color);\n",
              "    fill: var(--disabled-fill-color);\n",
              "    box-shadow: none;\n",
              "  }\n",
              "\n",
              "  .colab-df-spinner {\n",
              "    border: 2px solid var(--fill-color);\n",
              "    border-color: transparent;\n",
              "    border-bottom-color: var(--fill-color);\n",
              "    animation:\n",
              "      spin 1s steps(1) infinite;\n",
              "  }\n",
              "\n",
              "  @keyframes spin {\n",
              "    0% {\n",
              "      border-color: transparent;\n",
              "      border-bottom-color: var(--fill-color);\n",
              "      border-left-color: var(--fill-color);\n",
              "    }\n",
              "    20% {\n",
              "      border-color: transparent;\n",
              "      border-left-color: var(--fill-color);\n",
              "      border-top-color: var(--fill-color);\n",
              "    }\n",
              "    30% {\n",
              "      border-color: transparent;\n",
              "      border-left-color: var(--fill-color);\n",
              "      border-top-color: var(--fill-color);\n",
              "      border-right-color: var(--fill-color);\n",
              "    }\n",
              "    40% {\n",
              "      border-color: transparent;\n",
              "      border-right-color: var(--fill-color);\n",
              "      border-top-color: var(--fill-color);\n",
              "    }\n",
              "    60% {\n",
              "      border-color: transparent;\n",
              "      border-right-color: var(--fill-color);\n",
              "    }\n",
              "    80% {\n",
              "      border-color: transparent;\n",
              "      border-right-color: var(--fill-color);\n",
              "      border-bottom-color: var(--fill-color);\n",
              "    }\n",
              "    90% {\n",
              "      border-color: transparent;\n",
              "      border-bottom-color: var(--fill-color);\n",
              "    }\n",
              "  }\n",
              "</style>\n",
              "\n",
              "  <script>\n",
              "    async function quickchart(key) {\n",
              "      const quickchartButtonEl =\n",
              "        document.querySelector('#' + key + ' button');\n",
              "      quickchartButtonEl.disabled = true;  // To prevent multiple clicks.\n",
              "      quickchartButtonEl.classList.add('colab-df-spinner');\n",
              "      try {\n",
              "        const charts = await google.colab.kernel.invokeFunction(\n",
              "            'suggestCharts', [key], {});\n",
              "      } catch (error) {\n",
              "        console.error('Error during call to suggestCharts:', error);\n",
              "      }\n",
              "      quickchartButtonEl.classList.remove('colab-df-spinner');\n",
              "      quickchartButtonEl.classList.add('colab-df-quickchart-complete');\n",
              "    }\n",
              "    (() => {\n",
              "      let quickchartButtonEl =\n",
              "        document.querySelector('#df-4a46e287-afa2-4abd-9813-326989d9f236 button');\n",
              "      quickchartButtonEl.style.display =\n",
              "        google.colab.kernel.accessAllowed ? 'block' : 'none';\n",
              "    })();\n",
              "  </script>\n",
              "</div>\n",
              "\n",
              "    </div>\n",
              "  </div>\n"
            ],
            "application/vnd.google.colaboratory.intrinsic+json": {
              "type": "dataframe",
              "variable_name": "df",
              "summary": "{\n  \"name\": \"df\",\n  \"rows\": 10000,\n  \"fields\": [\n    {\n      \"column\": \"en\",\n      \"properties\": {\n        \"dtype\": \"string\",\n        \"num_unique_values\": 9922,\n        \"samples\": [\n          \"Wriddhiman Saha is the lone wicket-keeper in the squad.\\n\",\n          \"It was age.\\n\",\n          \"No government relief arrived that day. A Christian meeting was scheduled for the next day, and these sisters again had to make a decision.\\n\"\n        ],\n        \"semantic_type\": \"\",\n        \"description\": \"\"\n      }\n    },\n    {\n      \"column\": \"ml\",\n      \"properties\": {\n        \"dtype\": \"string\",\n        \"num_unique_values\": 9994,\n        \"samples\": [\n          \"\\u0d2e\\u0d4b\\u0d1f\\u0d4d\\u0d1f\\u0d4b\\u0d30\\u0d4d\\u200d \\u0d07\\u0d28\\u0d4d\\u200d\\u0d37\\u0d41\\u0d31\\u0d28\\u0d4d\\u200d\\u0d38\\u0d3f\\u0d32\\u0d4d\\u200d 24 \\u0d03 7 \\u0d31\\u0d4b\\u0d21\\u0d4d \\u0d38\\u0d48\\u0d21\\u0d4d \\u0d05\\u0d38\\u0d3f\\u0d38\\u0d4d\\u0d31\\u0d4d\\u0d31\\u0d28\\u0d4d\\u200d\\u0d38\\u0d41\\u0d02 \\u0d35\\u0d3f\\u0d2a\\u0d41\\u0d32\\u0d40\\u0d15\\u0d43\\u0d24 \\u0d35\\u0d3e\\u0d31\\u0d28\\u0d4d\\u0d31\\u0d3f\\u0d2f\\u0d41\\u0d02 \\u0d38\\u0d4d\\u200c\\u0d15\\u0d4b\\u0d21 \\u0d13\\u0d1f\\u0d4d\\u0d1f\\u0d4b \\u0d35\\u0d3e\\u0d39\\u0d28\\u0d19\\u0d4d\\u0d19\\u0d33\\u0d3e\\u0d2f \\u0d31\\u0d3e\\u0d2a\\u0d4d\\u0d2a\\u0d3f\\u0d21\\u0d4d, \\u0d12\\u0d15\\u0d4d\\u0d1f\\u0d3e\\u0d35\\u0d3f\\u0d2f, \\u0d38\\u0d42\\u0d2a\\u0d4d\\u0d2a\\u0d30\\u0d4d\\u200d, \\u0d15\\u0d4b\\u0d21\\u0d3f\\u0d2f\\u0d3e\\u0d15\\u0d4d, \\u0d0e\\u0d28\\u0d4d\\u0d28\\u0d3f\\u0d35\\u0d2f\\u0d3f\\u0d32\\u0d4d\\u200d \\u0d32\\u0d2d\\u0d4d\\u0d2f\\u0d2e\\u0d3e\\u0d23\\u0d4d, \\u0d35\\u0d3f\\u0d36\\u0d4d\\u0d35\\u0d38\\u0d4d\\u0d24\\u0d30\\u0d3e\\u0d2f \\u0d0e\\u0d32\\u0d4d\\u0d32\\u0d3e \\u0d09\\u0d2a\\u0d2d\\u0d4b\\u0d15\\u0d4d\\u0d24\\u0d3e\\u0d15\\u0d4d\\u0d15\\u0d33\\u0d4d\\u200d\\u0d15\\u0d4d\\u0d15\\u0d41\\u0d02 \\u0d2e\\u0d28\\u0d38\\u0d4d\\u0d38\\u0d3f\\u0d28\\u0d4d\\u0d31\\u0d46 \\u0d2a\\u0d30\\u0d2e\\u0d2e\\u0d3e\\u0d2f \\u0d38\\u0d2e\\u0d3e\\u0d27\\u0d3e\\u0d28\\u0d02 \\u0d09\\u0d31\\u0d2a\\u0d4d\\u0d2a\\u0d3e\\u0d15\\u0d4d\\u0d15\\u0d41\\u0d28\\u0d4d\\u0d28\\u0d24\\u0d3e\\u0d23\\u0d3f\\u0d24\\u0d4d.\\n\",\n          \"\\u0d05\\u0d26\\u0d4d\\u0d26\\u0d47\\u0d39\\u0d02 \\u0d28\\u0d2e\\u0d4d\\u0d2e\\u0d41\\u0d1f\\u0d46 \\u0d12\\u0d30\\u0d41 \\u0d26\\u0d3e\\u0d38\\u0d28\\u0d4d\\u200d \\u0d2e\\u0d3e\\u0d24\\u0d4d\\u0d30\\u0d2e\\u0d3e\\u0d23\\u0d4d. \\u0d28\\u0d3e\\u0d02 \\u0d05\\u0d26\\u0d4d\\u0d26\\u0d47\\u0d39\\u0d24\\u0d4d\\u0d24\\u0d3f\\u0d28\\u0d4d \\u0d05\\u0d28\\u0d41\\u0d17\\u0d4d\\u0d30\\u0d39\\u0d2e\\u0d47\\u0d15\\u0d3f. \\u0d05\\u0d26\\u0d4d\\u0d26\\u0d47\\u0d39\\u0d24\\u0d4d\\u0d24\\u0d46 \\u0d07\\u0d38\\u0d4d\\u0d30\\u0d2f\\u0d47\\u0d32\\u0d4d\\u200d \\u0d2e\\u0d15\\u0d4d\\u0d15\\u0d33\\u0d4d\\u200d\\u0d15\\u0d4d\\u0d15\\u0d4d \\u0d2e\\u0d3e\\u0d24\\u0d43\\u0d15\\u0d2f\\u0d3e\\u0d15\\u0d4d\\u0d15\\u0d41\\u0d15\\u0d2f\\u0d41\\u0d02 \\u0d1a\\u0d46\\u0d2f\\u0d4d\\u0d24\\u0d41.\\n\",\n          \"\\u0d0e\\u0d31\\u0d23\\u0d3e\\u0d15\\u0d41\\u0d33\\u0d02 \\u0d24\\u0d1f\\u0d3f\\u0d15\\u0d4d\\u0d15\\u0d1f\\u0d35\\u0d4d \\u0d38\\u0d4d\\u0d35\\u0d26\\u0d47\\u0d36\\u0d3f \\u0d15\\u0d41\\u0d1e\\u0d4d\\u0d1e\\u0d41\\u0d35\\u0d40\\u0d30\\u0d3e\\u0d7b (67) \\u0d06\\u0d23\\u0d4d \\u0d2e\\u0d30\\u0d3f\\u0d1a\\u0d4d\\u0d1a\\u0d24\\u0d4d.\\n\"\n        ],\n        \"semantic_type\": \"\",\n        \"description\": \"\"\n      }\n    }\n  ]\n}"
            }
          },
          "metadata": {},
          "execution_count": 7
        }
      ]
    },
    {
      "cell_type": "code",
      "source": [
        "import re\n",
        "def preprocess_eng(text):\n",
        "  text = str(text)\n",
        "  text = text.lower()\n",
        "  text = text.replace('\"\"','<quote>')\n",
        "  text = text.replace('\\n','')\n",
        "  text = re.sub(r'\\d+','<number>',text)\n",
        "  text = re.sub(r'[^a-zA-Z0-9\\s<>\\'.,!?]','',text)\n",
        "  text = text.replace(\"?\",\"\")\n",
        "  return text"
      ],
      "metadata": {
        "id": "wicX3zoQWd0z"
      },
      "execution_count": null,
      "outputs": []
    },
    {
      "cell_type": "code",
      "source": [
        "import unicodedata\n",
        "def preprocess_mal(text):\n",
        "  text = unicodedata.normalize('NFC',text)\n",
        "  text = text.lower()\n",
        "  text = text.replace('\\n','')\n",
        "  text = re.sub(r'\\d+','<number>',text)\n",
        "  text = re.sub('\"\"','<quote>',text)\n",
        "  text = text.replace(\"?\",\"\")\n",
        "  text = text.replace(\"\\u200d\",\"\")\n",
        "  text = text.replace(\"\\u200c\",\"\")\n",
        "  text = text.replace(\"?\",\"\")\n",
        "  text = text.replace(\"!\",\"\")\n",
        "  text = text.replace(\".\",\"\")\n",
        "  text = ' \"<start>\" ' + text + ' \"<end>\" '\n",
        "  return text"
      ],
      "metadata": {
        "id": "POcV4mXjWrWn"
      },
      "execution_count": null,
      "outputs": []
    },
    {
      "cell_type": "code",
      "source": [
        "df['en'] = df['en'].apply(preprocess_eng)\n",
        "df['ml'] = df['ml'].apply(preprocess_mal)"
      ],
      "metadata": {
        "colab": {
          "base_uri": "https://localhost:8080/"
        },
        "id": "ppfVi7K-WwoX",
        "outputId": "3b4ce9c3-9cec-48df-b91c-93128fc947b5"
      },
      "execution_count": null,
      "outputs": [
        {
          "output_type": "stream",
          "name": "stderr",
          "text": [
            "<ipython-input-10-881fd9b1cbe6>:1: SettingWithCopyWarning: \n",
            "A value is trying to be set on a copy of a slice from a DataFrame.\n",
            "Try using .loc[row_indexer,col_indexer] = value instead\n",
            "\n",
            "See the caveats in the documentation: https://pandas.pydata.org/pandas-docs/stable/user_guide/indexing.html#returning-a-view-versus-a-copy\n",
            "  df['en'] = df['en'].apply(preprocess_eng)\n",
            "<ipython-input-10-881fd9b1cbe6>:2: SettingWithCopyWarning: \n",
            "A value is trying to be set on a copy of a slice from a DataFrame.\n",
            "Try using .loc[row_indexer,col_indexer] = value instead\n",
            "\n",
            "See the caveats in the documentation: https://pandas.pydata.org/pandas-docs/stable/user_guide/indexing.html#returning-a-view-versus-a-copy\n",
            "  df['ml'] = df['ml'].apply(preprocess_mal)\n"
          ]
        }
      ]
    },
    {
      "cell_type": "code",
      "source": [
        "df.head()"
      ],
      "metadata": {
        "colab": {
          "base_uri": "https://localhost:8080/",
          "height": 206
        },
        "id": "yilL9omMXVBg",
        "outputId": "4af214d9-dbaa-43d6-fb85-5d3ae4626dad"
      },
      "execution_count": null,
      "outputs": [
        {
          "output_type": "execute_result",
          "data": {
            "text/plain": [
              "                                                  en  \\\n",
              "0  the passengers were people with health emergen...   \n",
              "1  by introducing competitive bidding, government...   \n",
              "2   she does not want to continue as chief minister.   \n",
              "3                                     is this a joke   \n",
              "4  this was announced by minister of state for ex...   \n",
              "\n",
              "                                                  ml  \n",
              "0   \"<start>\" തൊഴില് നഷ്ടപ്പെട്ടവര്, രോഗബാധിതര്, ...  \n",
              "1   \"<start>\" പുനരുല്പ്പാദന ഈര്ജ്ജ മേഖലകളില് ഗവണ്...  \n",
              "2   \"<start>\" മുഖ്യമന്ത്രി എന്ന പദവിയില് തന്നെ കെ...  \n",
              "3         \"<start>\" ‘‘ഇതെപ്പിടിയാവുമോ എന്തോ \"<end>\"   \n",
              "4   \"<start>\" വിദേശകാര്യ സഹമന്ത്രി വി മുരളീധരന് ല...  "
            ],
            "text/html": [
              "\n",
              "  <div id=\"df-acbccfe8-720e-4f9e-8780-903f464ae16f\" class=\"colab-df-container\">\n",
              "    <div>\n",
              "<style scoped>\n",
              "    .dataframe tbody tr th:only-of-type {\n",
              "        vertical-align: middle;\n",
              "    }\n",
              "\n",
              "    .dataframe tbody tr th {\n",
              "        vertical-align: top;\n",
              "    }\n",
              "\n",
              "    .dataframe thead th {\n",
              "        text-align: right;\n",
              "    }\n",
              "</style>\n",
              "<table border=\"1\" class=\"dataframe\">\n",
              "  <thead>\n",
              "    <tr style=\"text-align: right;\">\n",
              "      <th></th>\n",
              "      <th>en</th>\n",
              "      <th>ml</th>\n",
              "    </tr>\n",
              "  </thead>\n",
              "  <tbody>\n",
              "    <tr>\n",
              "      <th>0</th>\n",
              "      <td>the passengers were people with health emergen...</td>\n",
              "      <td>\"&lt;start&gt;\" തൊഴില് നഷ്ടപ്പെട്ടവര്, രോഗബാധിതര്, ...</td>\n",
              "    </tr>\n",
              "    <tr>\n",
              "      <th>1</th>\n",
              "      <td>by introducing competitive bidding, government...</td>\n",
              "      <td>\"&lt;start&gt;\" പുനരുല്പ്പാദന ഈര്ജ്ജ മേഖലകളില് ഗവണ്...</td>\n",
              "    </tr>\n",
              "    <tr>\n",
              "      <th>2</th>\n",
              "      <td>she does not want to continue as chief minister.</td>\n",
              "      <td>\"&lt;start&gt;\" മുഖ്യമന്ത്രി എന്ന പദവിയില് തന്നെ കെ...</td>\n",
              "    </tr>\n",
              "    <tr>\n",
              "      <th>3</th>\n",
              "      <td>is this a joke</td>\n",
              "      <td>\"&lt;start&gt;\" ‘‘ഇതെപ്പിടിയാവുമോ എന്തോ \"&lt;end&gt;\"</td>\n",
              "    </tr>\n",
              "    <tr>\n",
              "      <th>4</th>\n",
              "      <td>this was announced by minister of state for ex...</td>\n",
              "      <td>\"&lt;start&gt;\" വിദേശകാര്യ സഹമന്ത്രി വി മുരളീധരന് ല...</td>\n",
              "    </tr>\n",
              "  </tbody>\n",
              "</table>\n",
              "</div>\n",
              "    <div class=\"colab-df-buttons\">\n",
              "\n",
              "  <div class=\"colab-df-container\">\n",
              "    <button class=\"colab-df-convert\" onclick=\"convertToInteractive('df-acbccfe8-720e-4f9e-8780-903f464ae16f')\"\n",
              "            title=\"Convert this dataframe to an interactive table.\"\n",
              "            style=\"display:none;\">\n",
              "\n",
              "  <svg xmlns=\"http://www.w3.org/2000/svg\" height=\"24px\" viewBox=\"0 -960 960 960\">\n",
              "    <path d=\"M120-120v-720h720v720H120Zm60-500h600v-160H180v160Zm220 220h160v-160H400v160Zm0 220h160v-160H400v160ZM180-400h160v-160H180v160Zm440 0h160v-160H620v160ZM180-180h160v-160H180v160Zm440 0h160v-160H620v160Z\"/>\n",
              "  </svg>\n",
              "    </button>\n",
              "\n",
              "  <style>\n",
              "    .colab-df-container {\n",
              "      display:flex;\n",
              "      gap: 12px;\n",
              "    }\n",
              "\n",
              "    .colab-df-convert {\n",
              "      background-color: #E8F0FE;\n",
              "      border: none;\n",
              "      border-radius: 50%;\n",
              "      cursor: pointer;\n",
              "      display: none;\n",
              "      fill: #1967D2;\n",
              "      height: 32px;\n",
              "      padding: 0 0 0 0;\n",
              "      width: 32px;\n",
              "    }\n",
              "\n",
              "    .colab-df-convert:hover {\n",
              "      background-color: #E2EBFA;\n",
              "      box-shadow: 0px 1px 2px rgba(60, 64, 67, 0.3), 0px 1px 3px 1px rgba(60, 64, 67, 0.15);\n",
              "      fill: #174EA6;\n",
              "    }\n",
              "\n",
              "    .colab-df-buttons div {\n",
              "      margin-bottom: 4px;\n",
              "    }\n",
              "\n",
              "    [theme=dark] .colab-df-convert {\n",
              "      background-color: #3B4455;\n",
              "      fill: #D2E3FC;\n",
              "    }\n",
              "\n",
              "    [theme=dark] .colab-df-convert:hover {\n",
              "      background-color: #434B5C;\n",
              "      box-shadow: 0px 1px 3px 1px rgba(0, 0, 0, 0.15);\n",
              "      filter: drop-shadow(0px 1px 2px rgba(0, 0, 0, 0.3));\n",
              "      fill: #FFFFFF;\n",
              "    }\n",
              "  </style>\n",
              "\n",
              "    <script>\n",
              "      const buttonEl =\n",
              "        document.querySelector('#df-acbccfe8-720e-4f9e-8780-903f464ae16f button.colab-df-convert');\n",
              "      buttonEl.style.display =\n",
              "        google.colab.kernel.accessAllowed ? 'block' : 'none';\n",
              "\n",
              "      async function convertToInteractive(key) {\n",
              "        const element = document.querySelector('#df-acbccfe8-720e-4f9e-8780-903f464ae16f');\n",
              "        const dataTable =\n",
              "          await google.colab.kernel.invokeFunction('convertToInteractive',\n",
              "                                                    [key], {});\n",
              "        if (!dataTable) return;\n",
              "\n",
              "        const docLinkHtml = 'Like what you see? Visit the ' +\n",
              "          '<a target=\"_blank\" href=https://colab.research.google.com/notebooks/data_table.ipynb>data table notebook</a>'\n",
              "          + ' to learn more about interactive tables.';\n",
              "        element.innerHTML = '';\n",
              "        dataTable['output_type'] = 'display_data';\n",
              "        await google.colab.output.renderOutput(dataTable, element);\n",
              "        const docLink = document.createElement('div');\n",
              "        docLink.innerHTML = docLinkHtml;\n",
              "        element.appendChild(docLink);\n",
              "      }\n",
              "    </script>\n",
              "  </div>\n",
              "\n",
              "\n",
              "<div id=\"df-39beca68-70d4-48ac-a14e-c4e26f0e6a04\">\n",
              "  <button class=\"colab-df-quickchart\" onclick=\"quickchart('df-39beca68-70d4-48ac-a14e-c4e26f0e6a04')\"\n",
              "            title=\"Suggest charts\"\n",
              "            style=\"display:none;\">\n",
              "\n",
              "<svg xmlns=\"http://www.w3.org/2000/svg\" height=\"24px\"viewBox=\"0 0 24 24\"\n",
              "     width=\"24px\">\n",
              "    <g>\n",
              "        <path d=\"M19 3H5c-1.1 0-2 .9-2 2v14c0 1.1.9 2 2 2h14c1.1 0 2-.9 2-2V5c0-1.1-.9-2-2-2zM9 17H7v-7h2v7zm4 0h-2V7h2v10zm4 0h-2v-4h2v4z\"/>\n",
              "    </g>\n",
              "</svg>\n",
              "  </button>\n",
              "\n",
              "<style>\n",
              "  .colab-df-quickchart {\n",
              "      --bg-color: #E8F0FE;\n",
              "      --fill-color: #1967D2;\n",
              "      --hover-bg-color: #E2EBFA;\n",
              "      --hover-fill-color: #174EA6;\n",
              "      --disabled-fill-color: #AAA;\n",
              "      --disabled-bg-color: #DDD;\n",
              "  }\n",
              "\n",
              "  [theme=dark] .colab-df-quickchart {\n",
              "      --bg-color: #3B4455;\n",
              "      --fill-color: #D2E3FC;\n",
              "      --hover-bg-color: #434B5C;\n",
              "      --hover-fill-color: #FFFFFF;\n",
              "      --disabled-bg-color: #3B4455;\n",
              "      --disabled-fill-color: #666;\n",
              "  }\n",
              "\n",
              "  .colab-df-quickchart {\n",
              "    background-color: var(--bg-color);\n",
              "    border: none;\n",
              "    border-radius: 50%;\n",
              "    cursor: pointer;\n",
              "    display: none;\n",
              "    fill: var(--fill-color);\n",
              "    height: 32px;\n",
              "    padding: 0;\n",
              "    width: 32px;\n",
              "  }\n",
              "\n",
              "  .colab-df-quickchart:hover {\n",
              "    background-color: var(--hover-bg-color);\n",
              "    box-shadow: 0 1px 2px rgba(60, 64, 67, 0.3), 0 1px 3px 1px rgba(60, 64, 67, 0.15);\n",
              "    fill: var(--button-hover-fill-color);\n",
              "  }\n",
              "\n",
              "  .colab-df-quickchart-complete:disabled,\n",
              "  .colab-df-quickchart-complete:disabled:hover {\n",
              "    background-color: var(--disabled-bg-color);\n",
              "    fill: var(--disabled-fill-color);\n",
              "    box-shadow: none;\n",
              "  }\n",
              "\n",
              "  .colab-df-spinner {\n",
              "    border: 2px solid var(--fill-color);\n",
              "    border-color: transparent;\n",
              "    border-bottom-color: var(--fill-color);\n",
              "    animation:\n",
              "      spin 1s steps(1) infinite;\n",
              "  }\n",
              "\n",
              "  @keyframes spin {\n",
              "    0% {\n",
              "      border-color: transparent;\n",
              "      border-bottom-color: var(--fill-color);\n",
              "      border-left-color: var(--fill-color);\n",
              "    }\n",
              "    20% {\n",
              "      border-color: transparent;\n",
              "      border-left-color: var(--fill-color);\n",
              "      border-top-color: var(--fill-color);\n",
              "    }\n",
              "    30% {\n",
              "      border-color: transparent;\n",
              "      border-left-color: var(--fill-color);\n",
              "      border-top-color: var(--fill-color);\n",
              "      border-right-color: var(--fill-color);\n",
              "    }\n",
              "    40% {\n",
              "      border-color: transparent;\n",
              "      border-right-color: var(--fill-color);\n",
              "      border-top-color: var(--fill-color);\n",
              "    }\n",
              "    60% {\n",
              "      border-color: transparent;\n",
              "      border-right-color: var(--fill-color);\n",
              "    }\n",
              "    80% {\n",
              "      border-color: transparent;\n",
              "      border-right-color: var(--fill-color);\n",
              "      border-bottom-color: var(--fill-color);\n",
              "    }\n",
              "    90% {\n",
              "      border-color: transparent;\n",
              "      border-bottom-color: var(--fill-color);\n",
              "    }\n",
              "  }\n",
              "</style>\n",
              "\n",
              "  <script>\n",
              "    async function quickchart(key) {\n",
              "      const quickchartButtonEl =\n",
              "        document.querySelector('#' + key + ' button');\n",
              "      quickchartButtonEl.disabled = true;  // To prevent multiple clicks.\n",
              "      quickchartButtonEl.classList.add('colab-df-spinner');\n",
              "      try {\n",
              "        const charts = await google.colab.kernel.invokeFunction(\n",
              "            'suggestCharts', [key], {});\n",
              "      } catch (error) {\n",
              "        console.error('Error during call to suggestCharts:', error);\n",
              "      }\n",
              "      quickchartButtonEl.classList.remove('colab-df-spinner');\n",
              "      quickchartButtonEl.classList.add('colab-df-quickchart-complete');\n",
              "    }\n",
              "    (() => {\n",
              "      let quickchartButtonEl =\n",
              "        document.querySelector('#df-39beca68-70d4-48ac-a14e-c4e26f0e6a04 button');\n",
              "      quickchartButtonEl.style.display =\n",
              "        google.colab.kernel.accessAllowed ? 'block' : 'none';\n",
              "    })();\n",
              "  </script>\n",
              "</div>\n",
              "\n",
              "    </div>\n",
              "  </div>\n"
            ],
            "application/vnd.google.colaboratory.intrinsic+json": {
              "type": "dataframe",
              "variable_name": "df",
              "summary": "{\n  \"name\": \"df\",\n  \"rows\": 10000,\n  \"fields\": [\n    {\n      \"column\": \"en\",\n      \"properties\": {\n        \"dtype\": \"string\",\n        \"num_unique_values\": 9915,\n        \"samples\": [\n          \"this makes it more difficult.\",\n          \"ministry of home affairs union home ministers medal for excellence in investigation, <number> the union home ministers medal for excellence in investigation for the year <number> have been awarded to <number> police personnel.\",\n          \"and seek help through patience and prayer, and indeed, it is difficult except for the humbly submissive to allah\"\n        ],\n        \"semantic_type\": \"\",\n        \"description\": \"\"\n      }\n    },\n    {\n      \"column\": \"ml\",\n      \"properties\": {\n        \"dtype\": \"string\",\n        \"num_unique_values\": 9993,\n        \"samples\": [\n          \" \\\"<start>\\\" \\u0d1a\\u0d46\\u0d32\\u0d35\\u0d41\\u0d15\\u0d33\\u0d4d \\u0d15\\u0d4d\\u0d30\\u0d2e\\u0d3e\\u0d24\\u0d40\\u0d24\\u0d2e\\u0d3e\\u0d2f\\u0d3f \\u0d15\\u0d42\\u0d1f\\u0d41\\u0d02 \\\"<end>\\\" \",\n          \" \\\"<start>\\\" \\u0d05\\u0d26\\u0d4d\\u0d26\\u0d47\\u0d39\\u0d02 \\u0d28\\u0d2e\\u0d4d\\u0d2e\\u0d41\\u0d1f\\u0d46 \\u0d12\\u0d30\\u0d41 \\u0d26\\u0d3e\\u0d38\\u0d28\\u0d4d \\u0d2e\\u0d3e\\u0d24\\u0d4d\\u0d30\\u0d2e\\u0d3e\\u0d23\\u0d4d \\u0d28\\u0d3e\\u0d02 \\u0d05\\u0d26\\u0d4d\\u0d26\\u0d47\\u0d39\\u0d24\\u0d4d\\u0d24\\u0d3f\\u0d28\\u0d4d \\u0d05\\u0d28\\u0d41\\u0d17\\u0d4d\\u0d30\\u0d39\\u0d2e\\u0d47\\u0d15\\u0d3f \\u0d05\\u0d26\\u0d4d\\u0d26\\u0d47\\u0d39\\u0d24\\u0d4d\\u0d24\\u0d46 \\u0d07\\u0d38\\u0d4d\\u0d30\\u0d2f\\u0d47\\u0d32\\u0d4d \\u0d2e\\u0d15\\u0d4d\\u0d15\\u0d33\\u0d4d\\u0d15\\u0d4d\\u0d15\\u0d4d \\u0d2e\\u0d3e\\u0d24\\u0d43\\u0d15\\u0d2f\\u0d3e\\u0d15\\u0d4d\\u0d15\\u0d41\\u0d15\\u0d2f\\u0d41\\u0d02 \\u0d1a\\u0d46\\u0d2f\\u0d4d\\u0d24\\u0d41 \\\"<end>\\\" \",\n          \" \\\"<start>\\\" \\u0d2e\\u0d41\\u0d16\\u0d4d\\u0d2f\\u0d2e\\u0d28\\u0d4d\\u0d24\\u0d4d\\u0d30\\u0d3f\\u0d2f\\u0d41\\u0d1f\\u0d46 \\u0d2b\\u0d47\\u0d38\\u0d4d \\u0d2c\\u0d41\\u0d15\\u0d4d\\u0d15\\u0d4d \\u0d2a\\u0d4b\\u0d38\\u0d4d\\u0d31\\u0d4d\\u0d31\\u0d4d \\u0d2a\\u0d42\\u0d30\\u0d4d\\u0d23\\u0d30\\u0d42\\u0d2a\\u0d02 \\\"<end>\\\" \"\n        ],\n        \"semantic_type\": \"\",\n        \"description\": \"\"\n      }\n    }\n  ]\n}"
            }
          },
          "metadata": {},
          "execution_count": 11
        }
      ]
    },
    {
      "cell_type": "code",
      "source": [
        "from tensorflow.keras.preprocessing.text import Tokenizer"
      ],
      "metadata": {
        "id": "VxNQUsPqdNdQ"
      },
      "execution_count": null,
      "outputs": []
    },
    {
      "cell_type": "code",
      "source": [
        "eng_tokenizer = Tokenizer(oov_token='<UNK>')\n",
        "eng_tokenizer.fit_on_texts(df['en'])"
      ],
      "metadata": {
        "id": "qMyh6pAyc_7O"
      },
      "execution_count": null,
      "outputs": []
    },
    {
      "cell_type": "code",
      "source": [
        "mal_tokenizer = Tokenizer(oov_token='<UNK>')\n",
        "mal_tokenizer.fit_on_texts(df['ml'])"
      ],
      "metadata": {
        "id": "1nfEaGDndpIz"
      },
      "execution_count": null,
      "outputs": []
    },
    {
      "cell_type": "code",
      "source": [
        "eng_seq=eng_tokenizer.texts_to_sequences(df['en'])\n",
        "mal_seq=mal_tokenizer.texts_to_sequences(df['ml'])"
      ],
      "metadata": {
        "id": "cgopEifqevJp"
      },
      "execution_count": null,
      "outputs": []
    },
    {
      "cell_type": "code",
      "source": [
        "max_eng_len= 50\n",
        "max_mal_len= 50"
      ],
      "metadata": {
        "id": "sjiHxqbwfESS"
      },
      "execution_count": null,
      "outputs": []
    },
    {
      "cell_type": "code",
      "source": [
        "from tensorflow.keras.utils import pad_sequences"
      ],
      "metadata": {
        "id": "Z2B2VfelfJ0p"
      },
      "execution_count": null,
      "outputs": []
    },
    {
      "cell_type": "code",
      "source": [
        "eng_padding = pad_sequences(eng_seq,max_eng_len,padding='post',truncating='post')\n",
        "mal_padding = pad_sequences(mal_seq,max_mal_len,padding='post',truncating='post')"
      ],
      "metadata": {
        "id": "1JtqTr1sfZDD"
      },
      "execution_count": null,
      "outputs": []
    },
    {
      "cell_type": "code",
      "source": [
        "latent_dim = 64\n",
        "embedding_dim = 64\n",
        "eng_vocab = len(eng_tokenizer.word_index) +1\n",
        "mal_vocab = len(mal_tokenizer.word_index) +1"
      ],
      "metadata": {
        "id": "-JbKQBNKfdxr"
      },
      "execution_count": null,
      "outputs": []
    },
    {
      "cell_type": "code",
      "source": [
        "from tensorflow.keras.layers import Input,LSTM,Embedding,Dense,TimeDistributed\n",
        "from tensorflow.keras.models import Model"
      ],
      "metadata": {
        "id": "gHA7wlO_fmPc"
      },
      "execution_count": null,
      "outputs": []
    },
    {
      "cell_type": "code",
      "source": [
        "#Encoder\n",
        "encoder_input = Input(shape=(max_eng_len,))\n",
        "encoder_embedding = Embedding(input_dim=eng_vocab,output_dim=embedding_dim)(encoder_input)\n",
        "encoder_lstm1,state_h1,state_c1 = LSTM(latent_dim,return_sequences=True,return_state=True,dropout=0.3,recurrent_dropout=0.2)(encoder_embedding)\n",
        "encoder_lstm2,state_h2,state_c2 = LSTM(latent_dim,return_sequences=True,return_state=True,dropout=0.3,recurrent_dropout=0.2)(encoder_lstm1)\n",
        "encoder_lstm3,state_h3,state_c3 = LSTM(latent_dim,return_sequences=True,return_state=True,dropout=0.3,recurrent_dropout=0.2)(encoder_lstm2)\n",
        "\n",
        "#Decoder\n",
        "decoder_input = Input(shape=(None,))\n",
        "decoder_embedding = Embedding(input_dim=mal_vocab,output_dim=embedding_dim,trainable=True)(decoder_input)\n",
        "decoder_lstm1,_,_ = LSTM(latent_dim,return_sequences=True,return_state=True,dropout=0.3,recurrent_dropout=0.2)(decoder_embedding,initial_state=[state_h3,state_c3])\n",
        "\n",
        "decoder_dense = TimeDistributed(Dense(mal_vocab,activation='softmax'))(decoder_lstm1)\n",
        "\n",
        "model = Model([encoder_input,decoder_input],decoder_dense)\n"
      ],
      "metadata": {
        "id": "3E3_LbQ1fpY7"
      },
      "execution_count": null,
      "outputs": []
    },
    {
      "cell_type": "code",
      "source": [
        "model.compile(optimizer='adam', loss='sparse_categorical_crossentropy', metrics=['accuracy'])"
      ],
      "metadata": {
        "id": "EMJivBNnfr55"
      },
      "execution_count": null,
      "outputs": []
    },
    {
      "cell_type": "code",
      "source": [
        "history= model.fit([eng_padding, mal_padding[:,:-1]], mal_padding[:,1:], epochs=10, batch_size=64, validation_split=0.2)"
      ],
      "metadata": {
        "colab": {
          "base_uri": "https://localhost:8080/"
        },
        "id": "qZmEATpqfwrz",
        "outputId": "71ff0a27-6fb5-442c-d57f-da7e77f81992"
      },
      "execution_count": null,
      "outputs": [
        {
          "output_type": "stream",
          "name": "stdout",
          "text": [
            "Epoch 1/10\n",
            "\u001b[1m125/125\u001b[0m \u001b[32m━━━━━━━━━━━━━━━━━━━━\u001b[0m\u001b[37m\u001b[0m \u001b[1m76s\u001b[0m 449ms/step - accuracy: 0.8037 - loss: 7.3164 - val_accuracy: 0.8405 - val_loss: 1.6087\n",
            "Epoch 2/10\n",
            "\u001b[1m125/125\u001b[0m \u001b[32m━━━━━━━━━━━━━━━━━━━━\u001b[0m\u001b[37m\u001b[0m \u001b[1m55s\u001b[0m 440ms/step - accuracy: 0.8395 - loss: 1.5318 - val_accuracy: 0.8405 - val_loss: 1.4705\n",
            "Epoch 3/10\n",
            "\u001b[1m125/125\u001b[0m \u001b[32m━━━━━━━━━━━━━━━━━━━━\u001b[0m\u001b[37m\u001b[0m \u001b[1m84s\u001b[0m 460ms/step - accuracy: 0.8488 - loss: 1.4081 - val_accuracy: 0.8609 - val_loss: 1.4433\n",
            "Epoch 4/10\n",
            "\u001b[1m125/125\u001b[0m \u001b[32m━━━━━━━━━━━━━━━━━━━━\u001b[0m\u001b[37m\u001b[0m \u001b[1m79s\u001b[0m 436ms/step - accuracy: 0.8598 - loss: 1.3828 - val_accuracy: 0.8609 - val_loss: 1.4393\n",
            "Epoch 5/10\n",
            "\u001b[1m125/125\u001b[0m \u001b[32m━━━━━━━━━━━━━━━━━━━━\u001b[0m\u001b[37m\u001b[0m \u001b[1m55s\u001b[0m 444ms/step - accuracy: 0.8592 - loss: 1.3699 - val_accuracy: 0.8609 - val_loss: 1.4381\n",
            "Epoch 6/10\n",
            "\u001b[1m125/125\u001b[0m \u001b[32m━━━━━━━━━━━━━━━━━━━━\u001b[0m\u001b[37m\u001b[0m \u001b[1m81s\u001b[0m 432ms/step - accuracy: 0.8588 - loss: 1.3558 - val_accuracy: 0.8609 - val_loss: 1.4380\n",
            "Epoch 7/10\n",
            "\u001b[1m125/125\u001b[0m \u001b[32m━━━━━━━━━━━━━━━━━━━━\u001b[0m\u001b[37m\u001b[0m \u001b[1m82s\u001b[0m 435ms/step - accuracy: 0.8605 - loss: 1.3265 - val_accuracy: 0.8614 - val_loss: 1.4408\n",
            "Epoch 8/10\n",
            "\u001b[1m125/125\u001b[0m \u001b[32m━━━━━━━━━━━━━━━━━━━━\u001b[0m\u001b[37m\u001b[0m \u001b[1m83s\u001b[0m 441ms/step - accuracy: 0.8594 - loss: 1.3259 - val_accuracy: 0.8616 - val_loss: 1.4459\n",
            "Epoch 9/10\n",
            "\u001b[1m125/125\u001b[0m \u001b[32m━━━━━━━━━━━━━━━━━━━━\u001b[0m\u001b[37m\u001b[0m \u001b[1m84s\u001b[0m 459ms/step - accuracy: 0.8601 - loss: 1.3079 - val_accuracy: 0.8616 - val_loss: 1.4518\n",
            "Epoch 10/10\n",
            "\u001b[1m125/125\u001b[0m \u001b[32m━━━━━━━━━━━━━━━━━━━━\u001b[0m\u001b[37m\u001b[0m \u001b[1m79s\u001b[0m 438ms/step - accuracy: 0.8623 - loss: 1.2767 - val_accuracy: 0.8619 - val_loss: 1.4539\n"
          ]
        }
      ]
    },
    {
      "cell_type": "code",
      "source": [],
      "metadata": {
        "id": "9Cv81Y9Jfzv-"
      },
      "execution_count": null,
      "outputs": []
    }
  ]
}